{
 "cells": [
  {
   "cell_type": "code",
   "execution_count": 2,
   "metadata": {},
   "outputs": [],
   "source": [
    "class Zoo:\n",
    "    def __init__(self, zoo_name):\n",
    "        # Initialize the zoo name and an empty list of animals\n",
    "        self.name = zoo_name\n",
    "        self.animals = []\n",
    "\n",
    "    def add_animal(self, new_animal):\n",
    "        # Add the animal to the list if it's not already there\n",
    "        if new_animal not in self.animals:\n",
    "            self.animals.append(new_animal)\n",
    "\n",
    "    def get_animals(self):\n",
    "        # Print the list of all animals\n",
    "        print(\"Animals in the zoo:\", self.animals)\n",
    "\n",
    "    def sell_animal(self, animal_sold):\n",
    "        # Remove the animal from the list if it exists\n",
    "        if animal_sold in self.animals:\n",
    "            self.animals.remove(animal_sold)\n",
    "            print(f\"{animal_sold} has been sold.\")\n",
    "        else:\n",
    "            print(f\"{animal_sold} is not in the zoo.\")\n",
    "\n",
    "    def sort_animals(self):\n",
    "        # Sort the animals and group them by the first letter\n",
    "        self.animals.sort()\n",
    "        grouped_animals = {}\n",
    "        for animal in self.animals:\n",
    "            first_letter = animal[0].upper()\n",
    "            if first_letter not in grouped_animals:\n",
    "                grouped_animals[first_letter] = []\n",
    "            grouped_animals[first_letter].append(animal)\n",
    "        self.animal_groups = grouped_animals\n",
    "\n",
    "    def get_groups(self):\n",
    "        # Print the grouped animals\n",
    "        if hasattr(self, 'animal_groups'):\n",
    "            for letter, animals in self.animal_groups.items():\n",
    "                print(f\"{letter}: {animals}\")\n",
    "        else:\n",
    "            print(\"Animal groups are not yet sorted.\")\n",
    "# Create a Zoo object\n",
    "ramat_gan_safari = Zoo(\"Ramat Gan Safari\")\n"
   ]
  },
  {
   "cell_type": "code",
   "execution_count": 3,
   "metadata": {},
   "outputs": [],
   "source": [
    "ramat_gan_safari.add_animal(\"Giraffe\")\n",
    "ramat_gan_safari.add_animal(\"Ape\")\n",
    "ramat_gan_safari.add_animal(\"Baboon\")\n",
    "ramat_gan_safari.add_animal(\"Bear\")\n",
    "ramat_gan_safari.add_animal(\"Cat\")\n",
    "ramat_gan_safari.add_animal(\"Cougar\")\n",
    "ramat_gan_safari.add_animal(\"Eel\")\n",
    "ramat_gan_safari.add_animal(\"Emu\")\n"
   ]
  },
  {
   "cell_type": "code",
   "execution_count": 4,
   "metadata": {},
   "outputs": [
    {
     "name": "stdout",
     "output_type": "stream",
     "text": [
      "Animals in the zoo: ['Giraffe', 'Ape', 'Baboon', 'Bear', 'Cat', 'Cougar', 'Eel', 'Emu']\n"
     ]
    }
   ],
   "source": [
    "ramat_gan_safari.get_animals()"
   ]
  },
  {
   "cell_type": "code",
   "execution_count": 5,
   "metadata": {},
   "outputs": [
    {
     "name": "stdout",
     "output_type": "stream",
     "text": [
      "Cat has been sold.\n"
     ]
    }
   ],
   "source": [
    "ramat_gan_safari.sell_animal(\"Cat\")"
   ]
  },
  {
   "cell_type": "code",
   "execution_count": 6,
   "metadata": {},
   "outputs": [
    {
     "name": "stdout",
     "output_type": "stream",
     "text": [
      "Animals in the zoo: ['Giraffe', 'Ape', 'Baboon', 'Bear', 'Cougar', 'Eel', 'Emu']\n"
     ]
    }
   ],
   "source": [
    "ramat_gan_safari.get_animals()"
   ]
  },
  {
   "cell_type": "code",
   "execution_count": 7,
   "metadata": {},
   "outputs": [],
   "source": [
    "ramat_gan_safari.sort_animals()"
   ]
  },
  {
   "cell_type": "code",
   "execution_count": 8,
   "metadata": {},
   "outputs": [
    {
     "name": "stdout",
     "output_type": "stream",
     "text": [
      "A: ['Ape']\n",
      "B: ['Baboon', 'Bear']\n",
      "C: ['Cougar']\n",
      "E: ['Eel', 'Emu']\n",
      "G: ['Giraffe']\n"
     ]
    }
   ],
   "source": [
    "ramat_gan_safari.get_groups()"
   ]
  }
 ],
 "metadata": {
  "kernelspec": {
   "display_name": "Python 3",
   "language": "python",
   "name": "python3"
  },
  "language_info": {
   "codemirror_mode": {
    "name": "ipython",
    "version": 3
   },
   "file_extension": ".py",
   "mimetype": "text/x-python",
   "name": "python",
   "nbconvert_exporter": "python",
   "pygments_lexer": "ipython3",
   "version": "3.12.6"
  }
 },
 "nbformat": 4,
 "nbformat_minor": 2
}
