{
 "cells": [
  {
   "cell_type": "code",
   "execution_count": 1,
   "metadata": {},
   "outputs": [],
   "source": [
    "class Song:\n",
    "    def __init__(self, lyrics):\n",
    "        # Initialize the lyrics attribute\n",
    "        self.lyrics = lyrics\n",
    "\n",
    "    def sing_me_a_song(self):\n",
    "        # Print each line in the lyrics list\n",
    "        for line in self.lyrics:\n",
    "            print(line)\n"
   ]
  },
  {
   "cell_type": "code",
   "execution_count": 2,
   "metadata": {},
   "outputs": [],
   "source": [
    "stairway = Song([\n",
    "    \"There's a lady who's sure\",\n",
    "    \"all that glitters is gold\",\n",
    "    \"and she’s buying a stairway to heaven\"\n",
    "])"
   ]
  },
  {
   "cell_type": "code",
   "execution_count": 3,
   "metadata": {},
   "outputs": [
    {
     "name": "stdout",
     "output_type": "stream",
     "text": [
      "There's a lady who's sure\n",
      "all that glitters is gold\n",
      "and she’s buying a stairway to heaven\n"
     ]
    }
   ],
   "source": [
    "stairway.sing_me_a_song()"
   ]
  }
 ],
 "metadata": {
  "kernelspec": {
   "display_name": "Python 3",
   "language": "python",
   "name": "python3"
  },
  "language_info": {
   "codemirror_mode": {
    "name": "ipython",
    "version": 3
   },
   "file_extension": ".py",
   "mimetype": "text/x-python",
   "name": "python",
   "nbconvert_exporter": "python",
   "pygments_lexer": "ipython3",
   "version": "3.12.6"
  }
 },
 "nbformat": 4,
 "nbformat_minor": 2
}
