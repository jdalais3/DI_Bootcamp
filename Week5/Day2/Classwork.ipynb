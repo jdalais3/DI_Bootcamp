class Cat:
    def __init__(self, cat_name, cat_age):
        self.name = cat_name
        self.age = cat_age