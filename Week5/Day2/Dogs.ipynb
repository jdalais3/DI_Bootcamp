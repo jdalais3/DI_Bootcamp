{
 "cells": [
  {
   "cell_type": "code",
   "execution_count": 3,
   "metadata": {},
   "outputs": [],
   "source": [
    "class Dog:\n",
    "    def __init__(self, dog_name, dog_height):\n",
    "        self.name= dog_name\n",
    "        self.height= dog_height\n",
    "\n",
    "    def bark(self):\n",
    "        print(f\"{self.name} goes woof!\")\n",
    "    def jump(self):\n",
    "        print(f\"{self.name} jumps {self.height * 2} cm high!\")"
   ]
  },
  {
   "cell_type": "code",
   "execution_count": 4,
   "metadata": {},
   "outputs": [
    {
     "name": "stdout",
     "output_type": "stream",
     "text": [
      "David's dog: Name = Rex, Height = 50 cm\n",
      "Rex goes woof!\n",
      "Rex jumps 100 cm high!\n"
     ]
    }
   ],
   "source": [
    "davids_dog = Dog(\"Rex\", 50)\n",
    "print(f\"David's dog: Name = {davids_dog.name}, Height = {davids_dog.height} cm\")\n",
    "davids_dog.bark()\n",
    "davids_dog.jump()"
   ]
  },
  {
   "cell_type": "code",
   "execution_count": 5,
   "metadata": {},
   "outputs": [
    {
     "name": "stdout",
     "output_type": "stream",
     "text": [
      "Sarah's dog: Name = Teacup, Height = 20 cm\n",
      "Teacup goes woof!\n",
      "Teacup jumps 40 cm high!\n"
     ]
    }
   ],
   "source": [
    "sarahs_dog = Dog(\"Teacup\", 20)\n",
    "print(f\"Sarah's dog: Name = {sarahs_dog.name}, Height = {sarahs_dog.height} cm\")\n",
    "sarahs_dog.bark()\n",
    "sarahs_dog.jump()"
   ]
  },
  {
   "cell_type": "code",
   "execution_count": 6,
   "metadata": {},
   "outputs": [
    {
     "name": "stdout",
     "output_type": "stream",
     "text": [
      "The bigger dog is Rex.\n"
     ]
    }
   ],
   "source": [
    "if davids_dog.height > sarahs_dog.height:\n",
    "    print(f\"The bigger dog is {davids_dog.name}.\")\n",
    "else:\n",
    "    print(f\"The bigger dog is {sarahs_dog.name}.\")"
   ]
  }
 ],
 "metadata": {
  "kernelspec": {
   "display_name": "Python 3",
   "language": "python",
   "name": "python3"
  },
  "language_info": {
   "codemirror_mode": {
    "name": "ipython",
    "version": 3
   },
   "file_extension": ".py",
   "mimetype": "text/x-python",
   "name": "python",
   "nbconvert_exporter": "python",
   "pygments_lexer": "ipython3",
   "version": "3.12.6"
  }
 },
 "nbformat": 4,
 "nbformat_minor": 2
}
